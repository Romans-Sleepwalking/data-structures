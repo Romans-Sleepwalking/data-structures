{
 "cells": [
  {
   "metadata": {},
   "cell_type": "markdown",
   "source": [
    "## Solve the Two Sum in three ways:\n",
    "1. Brute force: O(n*n)\n",
    "2. O(n log n)\n",
    "3. O(n)"
   ],
   "id": "331c7513cb72c40e"
  },
  {
   "metadata": {
    "ExecuteTime": {
     "end_time": "2024-05-03T10:58:28.565714Z",
     "start_time": "2024-05-03T10:58:28.560536Z"
    }
   },
   "cell_type": "code",
   "source": [
    "target = None\n",
    "nums = []\n",
    "\n",
    "with open('two_sum_target_n_data.txt', mode='r') as fp:\n",
    "    for rownum, line in enumerate(fp):\n",
    "      if rownum == 0:\n",
    "        target = int(line)\n",
    "      elif rownum > 1:\n",
    "        nums.append(int(line))\n",
    "\n",
    "print(f\"Target: {target}\")\n",
    "print(f\"Nums: {nums[0]}, {nums[1]}, {nums[2]}, ... (total={len(nums)})\")"
   ],
   "id": "fee9ab4c71291d0d",
   "outputs": [
    {
     "name": "stdout",
     "output_type": "stream",
     "text": [
      "Target: 198329\n",
      "Nums: 16348, 73316, 20404, ... (total=1000)\n"
     ]
    }
   ],
   "execution_count": 1
  },
  {
   "metadata": {},
   "cell_type": "markdown",
   "source": "#### Brute force",
   "id": "a8b01fbef5f64ea3"
  },
  {
   "metadata": {
    "ExecuteTime": {
     "end_time": "2024-05-03T10:58:28.583962Z",
     "start_time": "2024-05-03T10:58:28.566884Z"
    }
   },
   "cell_type": "code",
   "source": [
    "def two_sum_brute_force():\n",
    "  \"\"\" An O(n*n) approach. \"\"\"\n",
    "  for i, num1 in enumerate(nums):\n",
    "    for j, num2 in enumerate(nums):\n",
    "        if num1 + num2 == target:\n",
    "            return i, j\n",
    "two_sum_brute_force()"
   ],
   "id": "63ca6abc43b49199",
   "outputs": [
    {
     "data": {
      "text/plain": [
       "(486, 912)"
      ]
     },
     "execution_count": 2,
     "metadata": {},
     "output_type": "execute_result"
    }
   ],
   "execution_count": 2
  },
  {
   "metadata": {},
   "cell_type": "markdown",
   "source": "### Sorted array",
   "id": "bde7c8efcd58dcb1"
  },
  {
   "metadata": {
    "ExecuteTime": {
     "end_time": "2024-05-03T10:58:28.588459Z",
     "start_time": "2024-05-03T10:58:28.584766Z"
    }
   },
   "cell_type": "code",
   "source": [
    "def two_sum_sorted():\n",
    "    \"\"\" An O(n*n) approach. \"\"\"\n",
    "    # Extend the list with explicitly preserved original indeces\n",
    "    ptr_nums = [(idx, num) for idx, num in enumerate(nums)]\n",
    "    # Initialise two pointers representing the start and the end\n",
    "    l_idx = 0\n",
    "    r_idx = ptr_nums[-1][0]\n",
    "    # Sort the array by number values ascending\n",
    "    ptr_nums = sorted(ptr_nums, key=lambda x: x[1])\n",
    "    while l_idx < r_idx:\n",
    "        i_sum = ptr_nums[l_idx][1] + ptr_nums[r_idx][1]\n",
    "        if i_sum == target:\n",
    "            return ptr_nums[l_idx][0], ptr_nums[r_idx][0]\n",
    "        # Move left pointer right if the sum is less than the target\n",
    "        elif i_sum < target:\n",
    "            l_idx += 1\n",
    "        # Move right pointer left if the sum is greater than the target\n",
    "        else:\n",
    "            r_idx -= 1\n",
    "two_sum_sorted()"
   ],
   "id": "64a7862c51c0c70d",
   "outputs": [
    {
     "data": {
      "text/plain": [
       "(912, 486)"
      ]
     },
     "execution_count": 3,
     "metadata": {},
     "output_type": "execute_result"
    }
   ],
   "execution_count": 3
  },
  {
   "metadata": {},
   "cell_type": "markdown",
   "source": "### Hash table",
   "id": "378aa5124d9b06d"
  },
  {
   "metadata": {
    "ExecuteTime": {
     "end_time": "2024-05-03T10:58:28.592192Z",
     "start_time": "2024-05-03T10:58:28.589158Z"
    }
   },
   "cell_type": "code",
   "source": [
    "def two_sum_hash_table():\n",
    "    \"\"\" An O(n) approach. \"\"\"\n",
    "    nummies = {}\n",
    "    # Iterate over nums while looking up the hashmap if the complement exists\n",
    "    for i, num1 in enumerate(nums):\n",
    "        num2 = target - num1\n",
    "        if num2 in nummies and nummies[num2] != i:\n",
    "            return i, nummies[num2]\n",
    "        # Fill the hashmap as explore the numbers\n",
    "        nummies[num1] = i\n",
    "two_sum_hash_table()"
   ],
   "id": "1a452c2fd987eaa8",
   "outputs": [
    {
     "data": {
      "text/plain": [
       "(912, 486)"
      ]
     },
     "execution_count": 4,
     "metadata": {},
     "output_type": "execute_result"
    }
   ],
   "execution_count": 4
  },
  {
   "metadata": {
    "ExecuteTime": {
     "end_time": "2024-05-03T10:58:28.594786Z",
     "start_time": "2024-05-03T10:58:28.593479Z"
    }
   },
   "cell_type": "code",
   "source": "",
   "id": "84e40ccb90fbfca2",
   "outputs": [],
   "execution_count": 4
  }
 ],
 "metadata": {
  "kernelspec": {
   "display_name": "Python 3",
   "language": "python",
   "name": "python3"
  },
  "language_info": {
   "codemirror_mode": {
    "name": "ipython",
    "version": 2
   },
   "file_extension": ".py",
   "mimetype": "text/x-python",
   "name": "python",
   "nbconvert_exporter": "python",
   "pygments_lexer": "ipython2",
   "version": "2.7.6"
  }
 },
 "nbformat": 4,
 "nbformat_minor": 5
}
